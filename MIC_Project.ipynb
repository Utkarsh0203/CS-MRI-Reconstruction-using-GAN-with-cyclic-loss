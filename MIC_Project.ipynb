{
  "nbformat": 4,
  "nbformat_minor": 0,
  "metadata": {
    "colab": {
      "name": "MIC_Project.ipynb",
      "provenance": [],
      "collapsed_sections": []
    },
    "kernelspec": {
      "name": "python3",
      "display_name": "Python 3"
    }
  },
  "cells": [
    {
      "cell_type": "code",
      "metadata": {
        "id": "O98AR0CAZXam",
        "colab_type": "code",
        "colab": {}
      },
      "source": [
        "import os\n",
        "import random\n",
        "import numpy as np\n",
        "import pandas as pd\n",
        "from PIL import Image\n",
        "import cv2\n",
        "import matplotlib.pyplot as plt\n",
        "\n",
        "import torch\n",
        "import torch.nn.parallel as prl\n",
        "import torch.backends.cudnn as cudnn\n",
        "import torch.nn as nn\n",
        "import torch.nn.functional as F\n",
        "import torch.optim as optim\n",
        "import torchvision\n",
        "from torchvision import transforms,utils,datasets\n",
        "from torch.autograd import Variable\n",
        "from torch.utils.data import Dataset,DataLoader"
      ],
      "execution_count": 0,
      "outputs": []
    },
    {
      "cell_type": "code",
      "metadata": {
        "id": "6FDrS3kANttR",
        "colab_type": "code",
        "colab": {}
      },
      "source": [
        "class ResidualCell(nn.Module):\n",
        "  def __init__(self, n_filters):\n",
        "    super(ResidualCell, self).__init__()\n",
        "\n",
        "    self.conv_i = nn.Conv2d(n_filters, n_filters, (3,3), 1, 1) #Why is this layer needed?\n",
        "    self.conv_m = nn.Conv2d(n_filters, int(n_filters/2), (3,3), 1, 1)\n",
        "    self.conv_o = nn.Conv2d(int(n_filters/2), n_filters, (3,3), 1, 1)\n",
        "    \n",
        "    self.res_net = nn.Sequential(self.conv_i, self.conv_m, self.conv_o)\n",
        "\n",
        "  def forward(self, x):\n",
        "    return x+self.res_net(x)"
      ],
      "execution_count": 0,
      "outputs": []
    },
    {
      "cell_type": "code",
      "metadata": {
        "id": "k-tLM5gNLgRQ",
        "colab_type": "code",
        "colab": {}
      },
      "source": [
        "class EncoderCell(nn.Module):\n",
        "  def __init__(self, n_in, n_res):\n",
        "    super(EncoderCell, self).__init__()\n",
        "\n",
        "    self.conv_a = nn.Conv2d(n_in, n_res, (3,3), 2)\n",
        "    self.res = ResidualCell(n_res)\n",
        "    self.conv_b = nn.Conv2d(n_res, n_res, (3,3), 1)\n",
        "\n",
        "    self.encoder = nn.Sequential(self.conv_a, self.res, self.conv_b)\n",
        "\n",
        "  def forward(self, x):\n",
        "    return self.encoder(x)"
      ],
      "execution_count": 0,
      "outputs": []
    },
    {
      "cell_type": "code",
      "metadata": {
        "id": "tofchbZ3NYSc",
        "colab_type": "code",
        "colab": {}
      },
      "source": [
        "class DecoderCell(nn.Module):\n",
        "  def __init__(self, n_in, n_res):\n",
        "    super(DecoderCell, self).__init__()\n",
        "\n",
        "    self.deconv_a = nn.ConvTranspose2d(n_in, n_res, (3,3), 1)\n",
        "    self.res = ResidualCell(n_res)\n",
        "    self.deconv_b = nn.ConvTranspose2d(n_res, n_res, (3,3), 2)\n",
        "\n",
        "    self.decoder = nn.Sequential(self.deconv_a, self.res, self.deconv_b)\n",
        "\n",
        "  def forward(self, x):\n",
        "    return self.decoder(x)"
      ],
      "execution_count": 0,
      "outputs": []
    },
    {
      "cell_type": "code",
      "metadata": {
        "id": "vmCTpEpuaKl6",
        "colab_type": "code",
        "colab": {}
      },
      "source": [
        "class SubGenerator(nn.Module):\n",
        "  \"\"\"\n",
        "  Input: Zero filling imperfect reconstruction by inverse of undersampled fourier transform\n",
        "  Output: Full image which (should) belongs to the set of all possible perfect reconstructions\n",
        "  \"\"\"\n",
        "  def __init__(self):\n",
        "    super(SubGenerator, self).__init__(n)\n",
        "    #Input channels = 2 \n",
        "\n",
        "    #ConvEncoder\n",
        "    self.ec0 = EncoderCell(2,n)\n",
        "    self.ec1 = EncoderCell(n,2*n)\n",
        "    self.ec2 = EncoderCell(2*n,4*n)\n",
        "    self.ec3 = EncoderCell(4*n,8*n)\n",
        "\n",
        "    #ConvDecoder\n",
        "    self.dc3 = DecoderCell(8*n,4*n)\n",
        "    self.dc2 = DecoderCell(4*n,2*n)\n",
        "    self.dc1 = DecoderCell(2*n,n)\n",
        "    self.dc0 = DecoderCell(n,n)\n",
        "\n",
        "    #Output \n",
        "    self.out = nn.Conv2d(n,2,(3,3),1,1) #Real and Complex channels as outputs?\n",
        "\n",
        "  def forward(self, x):\n",
        "    #With Residual Connections\n",
        "    \n",
        "    e0 = self.ec0(x)\n",
        "    e1 = self.ec1(e0)\n",
        "    e2 = self.ec2(e1)\n",
        "    e3 = self.ec3(e2)\n",
        "\n",
        "    d3 = self.dc3(e3)\n",
        "    d2 = self.dc2(d3+e2)\n",
        "    d1 = self.dc1(d2+e1)\n",
        "    d0 = self.dc0(d1+e0)\n",
        "\n",
        "    y = nn.Tanh(self.out(d0))\n",
        "\n",
        "    return y\n"
      ],
      "execution_count": 0,
      "outputs": []
    },
    {
      "cell_type": "code",
      "metadata": {
        "id": "-jYZnzsVfW3f",
        "colab_type": "code",
        "colab": {}
      },
      "source": [
        "class Generator(nn.Module):\n",
        "  def __init__(self, n):\n",
        "    super(Generator, self).__init__()\n",
        "\n",
        "    self.reconGAN = SubGenerator(n)\n",
        "    self.refineGAN = SubGenerator(n)\n",
        "\n",
        "  def forward(self, x):\n",
        "    y = x+self.reconGAN(x)\n",
        "    z = y+self.refineGAN(y) #Check if need to add here too\n",
        "    return (y,z)"
      ],
      "execution_count": 0,
      "outputs": []
    },
    {
      "cell_type": "code",
      "metadata": {
        "id": "jyMfLT91uiX9",
        "colab_type": "code",
        "colab": {}
      },
      "source": [
        "class Discriminator(nn.Module):\n",
        "  def __init__(self, H, W, n_in, n):\n",
        "    super(Discriminator, self).__init__()\n",
        "    \n",
        "    #Downsample Layers\n",
        "\n",
        "    self.ec0 = EncoderCell(n_in,n)\n",
        "    self.ec1 = EncoderCell(n,2*n)\n",
        "    self.ec2 = EncoderCell(2*n,4*n)\n",
        "    self.ec3 = EncoderCell(4*n,8*n)\n",
        "\n",
        "    #Probability Output\n",
        "    self.downsampler = nn.Sequential(self.ec0, self.ec1, self.ec2, self.ec3)\n",
        "    self.out = nn.Conv2d(8*n,1,(H,W), 1)\n",
        "  \n",
        "  def forward(self, x):\n",
        "    y = self.downsampler(x)\n",
        "    y = nn.Sigmoid(self.out(y))\n",
        "    return y"
      ],
      "execution_count": 0,
      "outputs": []
    },
    {
      "cell_type": "code",
      "metadata": {
        "id": "NIKdXwGolnlb",
        "colab_type": "code",
        "colab": {}
      },
      "source": [
        ""
      ],
      "execution_count": 0,
      "outputs": []
    }
  ]
}