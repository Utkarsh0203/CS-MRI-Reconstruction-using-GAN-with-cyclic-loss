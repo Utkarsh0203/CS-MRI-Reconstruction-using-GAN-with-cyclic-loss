{
  "nbformat": 4,
  "nbformat_minor": 0,
  "metadata": {
    "colab": {
      "name": "Copy of CS_MRI_GAN_FINAL.ipynb",
      "provenance": [],
      "collapsed_sections": []
    },
    "kernelspec": {
      "name": "python3",
      "display_name": "Python 3"
    },
    "accelerator": "GPU"
  },
  "cells": [
    {
      "cell_type": "code",
      "metadata": {
        "id": "O98AR0CAZXam",
        "colab_type": "code",
        "colab": {}
      },
      "source": [
        "import os\n",
        "import random\n",
        "import numpy as np\n",
        "import pandas as pd\n",
        "import time\n",
        "from PIL import Image \n",
        "import cv2\n",
        "import matplotlib.pyplot as plt\n",
        "\n",
        "import torch\n",
        "import torch.nn as nn\n",
        "import torch.nn.functional as F\n",
        "import torch.optim as optim\n",
        "import torchvision\n",
        "from torchvision import transforms,utils,datasets\n",
        "from torch.autograd import Variable\n",
        "from torch.utils.data import Dataset,DataLoader\n",
        "from IPython.display import clear_output"
      ],
      "execution_count": 1,
      "outputs": []
    },
    {
      "cell_type": "code",
      "metadata": {
        "id": "g7ScYPGYkWrN",
        "colab_type": "code",
        "colab": {}
      },
      "source": [
        "assert torch.cuda.is_available()"
      ],
      "execution_count": 2,
      "outputs": []
    },
    {
      "cell_type": "code",
      "metadata": {
        "id": "ZpLKC07F-ISV",
        "colab_type": "code",
        "colab": {}
      },
      "source": [
        "batch_size = 10"
      ],
      "execution_count": 3,
      "outputs": []
    },
    {
      "cell_type": "code",
      "metadata": {
        "id": "lB5Ie0-eP91A",
        "colab_type": "code",
        "colab": {}
      },
      "source": [
        "MASK = 'radial'\n",
        "MASK_PERCENT = '20'\n",
        "\n",
        "train_transforms = transforms.Compose([\n",
        "\t\t# transforms.ToPILImage(),\n",
        "\t\ttransforms.RandomHorizontalFlip(),\n",
        "\t\ttransforms.RandomVerticalFlip(),\n",
        "\t\ttransforms.RandomRotation(90, fill=0),\n",
        "\t\ttransforms.RandomCrop(244),\n",
        "\t\ttransforms.Pad(6),\n",
        "\t\ttransforms.ToTensor()\n",
        "\t])"
      ],
      "execution_count": 4,
      "outputs": []
    },
    {
      "cell_type": "code",
      "metadata": {
        "id": "mtFq02rrSqv9",
        "colab_type": "code",
        "colab": {}
      },
      "source": [
        "def RF(image, mask, batch = False):\t#both image and mask arg are (2,256,256) tensors\n",
        "  if not batch:\n",
        "    image = image.permute(1,2,0)\n",
        "    mask = mask.permute(1,2,0)\n",
        "    frq = torch.fft(image, 2)\n",
        "    res = torch.mul(frq, mask)\n",
        "    res = res.permute(2,0,1)\n",
        "    return res\n",
        "  else:\n",
        "    image = image.permute(0,2,3,1)\n",
        "    mask = mask.permute(0,2,3,1)\n",
        "    frq = torch.fft(image, 2)\n",
        "    res = torch.mul(frq, mask)\n",
        "    res = res.permute(0,3,1,2)\n",
        "    return res\n",
        "\n",
        "def FhRh(frq, batch = False):\n",
        "  if not batch:\n",
        "    frq = frq.permute(1,2,0)\n",
        "    res = torch.ifft(frq, 2)\n",
        "    res = torch.clamp(res, min=-1, max=1)\n",
        "    res = res.permute(2,0,1)\n",
        "    return res\n",
        "  else:\n",
        "    frq = frq.permute(0,2,3,1)\n",
        "    res = torch.ifft(frq, 2)\n",
        "    res = torch.clamp(res, min=-1, max=1)\n",
        "    res = res.permute(0,3,1,2)\n",
        "    return res\n",
        "  \n",
        "def displayTensor(tnsr, name=\"image\"):\t#input tensor is (2,256,256)\n",
        "  real = tnsr[0]\n",
        "  image = (real+1)*255/2\n",
        "  image = np.array(image, dtype=\"uint8\")\n",
        "  plt.imshow(image, cmap='gray', vmin=0, vmax=255)\n",
        "  # cv2.imshow(name, image)\n",
        "  # cv2.waitKey(0)\n",
        "  # cv2.destroyAllWindows()"
      ],
      "execution_count": 5,
      "outputs": []
    },
    {
      "cell_type": "code",
      "metadata": {
        "id": "1A2D5ntiRym1",
        "colab_type": "code",
        "colab": {}
      },
      "source": [
        "class Dataset_train(Dataset):\n",
        "\tdef __init__(self, data_dir='/content/drive/My Drive/CS736 Project/data/brain/db_train', mask_path='/content/drive/My Drive/CS736 Project/data/mask/{}/{}_{}.tif'.format(MASK, MASK, MASK_PERCENT), transform=train_transforms):\n",
        "\t\tself.us_train_data = []\n",
        "\t\tself.transform=transform\n",
        "\t\tself.mask = cv2.imread(mask_path)\n",
        "\t\tself.mask = cv2.cvtColor(self.mask, cv2.COLOR_BGR2GRAY)/255\n",
        "\t\tself.mask2 = torch.zeros(2,256,256)\n",
        "\t\tself.mask2[0] = torch.Tensor(self.mask)\n",
        "\t\tself.mask2[1] = torch.Tensor(self.mask)\n",
        "\t\ti=0\n",
        "\t\tfor filename in os.listdir(data_dir):\n",
        "\t\t\timage = Image.open('{}/{}'.format(data_dir, filename))\n",
        "\t\t\t# image = cv2.cvtColor(image, cv2.COLOR_BGR2GRAY)\n",
        "\t\t\t# image = 2*(image/255) - 1\n",
        "\t\t\tself.us_train_data.append(image)\n",
        "\t\t\ti = i+1\n",
        "\n",
        "\tdef __len__(self):\n",
        "\t\treturn len(self.us_train_data)\n",
        "\n",
        "\tdef __getitem__(self, idx):\n",
        "\t\tsample = self.us_train_data[idx]\n",
        "\t\tsample2 = (self.transform(sample))*2-1\n",
        "\t\timage = torch.zeros(2,256,256)\n",
        "\t\timage[0] = sample2\n",
        "\t\timage[1] = image[1]-1\n",
        "\t\t# self.us_train_data[idx,0] = (self.transform(sample))*2-1\n",
        "\t\t# sample = sample*2 -1\n",
        "\t\t# image = self.us_train_data[idx]\n",
        "\t\tfrq = RF(image, self.mask2)\n",
        "\t\tres = FhRh(frq)\n",
        "\t\tfin = tuple([image,frq,res])\n",
        "\t\treturn fin"
      ],
      "execution_count": 6,
      "outputs": []
    },
    {
      "cell_type": "code",
      "metadata": {
        "id": "R-5NWqLwR38u",
        "colab_type": "code",
        "colab": {}
      },
      "source": [
        "train_data = Dataset_train()\n",
        "dataloader = DataLoader(train_data, batch_size=batch_size, shuffle=True)"
      ],
      "execution_count": 9,
      "outputs": []
    },
    {
      "cell_type": "code",
      "metadata": {
        "id": "a1ZRmchDFfW6",
        "colab_type": "code",
        "colab": {
          "base_uri": "https://localhost:8080/",
          "height": 35
        },
        "outputId": "ef0f2bc8-8253-47bb-c2af-c787189433b1"
      },
      "source": [
        "fre1 = train_data[0][2]\n",
        "print(torch.min(fre1),torch.max(fre1))"
      ],
      "execution_count": 10,
      "outputs": [
        {
          "output_type": "stream",
          "text": [
            "tensor(-1.) tensor(0.7990)\n"
          ],
          "name": "stdout"
        }
      ]
    },
    {
      "cell_type": "code",
      "metadata": {
        "id": "6FDrS3kANttR",
        "colab_type": "code",
        "colab": {}
      },
      "source": [
        "class ResidualCell(nn.Module):\n",
        "  def __init__(self, n_filters):\n",
        "    super(ResidualCell, self).__init__()\n",
        "    #Residual connections, (H,W) remain same \n",
        "    self.conv_i = nn.Conv2d(n_filters, n_filters, (3,3), 1, 1) #Why is this layer needed?\n",
        "    self.conv_m = nn.Conv2d(n_filters, int(n_filters/2), (3,3), 1, 1)\n",
        "    self.conv_o = nn.Conv2d(int(n_filters/2), n_filters, (3,3), 1, 1)\n",
        "    \n",
        "    self.res_net = nn.Sequential(self.conv_i, nn.BatchNorm2d(n_filters), nn.ReLU(),\n",
        "                                 self.conv_m, nn.BatchNorm2d(int(n_filters/2)), nn.ReLU(),\n",
        "                                 self.conv_o, nn.BatchNorm2d(n_filters), nn.ReLU())\n",
        "\n",
        "  def forward(self, x):\n",
        "    return x+self.res_net(x)"
      ],
      "execution_count": 11,
      "outputs": []
    },
    {
      "cell_type": "code",
      "metadata": {
        "id": "k-tLM5gNLgRQ",
        "colab_type": "code",
        "colab": {}
      },
      "source": [
        "class EncoderCell(nn.Module):\n",
        "  def __init__(self, n_in, n_res, pad=0, leaky = False):\n",
        "    super(EncoderCell, self).__init__()\n",
        "\n",
        "    self.conv_a = nn.Conv2d(n_in, n_res, (3,3), 2, padding=pad)\n",
        "    self.res = ResidualCell(n_res)\n",
        "    self.conv_b = nn.Conv2d(n_res, n_res, (3,3), 1)\n",
        "\n",
        "    if not leaky:\n",
        "      self.encoder = nn.Sequential(self.conv_a,  nn.BatchNorm2d(n_res), nn.ReLU(), \n",
        "                                   self.res, \n",
        "                                   self.conv_b,  nn.BatchNorm2d(n_res), nn.ReLU())\n",
        "    else:\n",
        "      self.encoder = nn.Sequential(self.conv_a,  nn.BatchNorm2d(n_res), nn.LeakyReLU(0.2),\n",
        "                                   self.res, \n",
        "                                   self.conv_b,  nn.BatchNorm2d(n_res), nn.LeakyReLU(0.2))\n",
        "\n",
        "  def forward(self, x):\n",
        "    return self.encoder(x)"
      ],
      "execution_count": 12,
      "outputs": []
    },
    {
      "cell_type": "code",
      "metadata": {
        "id": "tofchbZ3NYSc",
        "colab_type": "code",
        "colab": {}
      },
      "source": [
        "class DecoderCell(nn.Module):\n",
        "  def __init__(self, n_in, n_res, pad=0):\n",
        "    super(DecoderCell, self).__init__()\n",
        "\n",
        "    self.deconv_a = nn.ConvTranspose2d(n_in, n_res, (3,3), 1)\n",
        "    self.res = ResidualCell(n_res)\n",
        "    self.deconv_b = nn.ConvTranspose2d(n_res, n_res, (3,3), 2, output_padding=pad)\n",
        "\n",
        "    self.decoder = nn.Sequential(self.deconv_a, nn.BatchNorm2d(n_res), nn.ReLU(), \n",
        "                                 self.res, \n",
        "                                 self.deconv_b, nn.BatchNorm2d(n_res), nn.ReLU())\n",
        "\n",
        "  def forward(self, x):\n",
        "    return self.decoder(x)"
      ],
      "execution_count": 13,
      "outputs": []
    },
    {
      "cell_type": "code",
      "metadata": {
        "id": "vmCTpEpuaKl6",
        "colab_type": "code",
        "colab": {}
      },
      "source": [
        "class SubGenerator(nn.Module):\n",
        "  \"\"\"\n",
        "  Input: Zero filling imperfect reconstruction by inverse of undersampled fourier transform\n",
        "  Output: Full image which (should) belongs to the set of all possible perfect reconstructions\n",
        "  \"\"\"\n",
        "  def __init__(self, n):\n",
        "    super(SubGenerator, self).__init__()\n",
        "    #Input channels = 2 \n",
        "\n",
        "    #ConvEncoder\n",
        "    self.ec0 = EncoderCell(2,n)\n",
        "    self.ec1 = EncoderCell(n,2*n)\n",
        "    self.ec2 = EncoderCell(2*n,4*n)\n",
        "    self.ec3 = EncoderCell(4*n,8*n)\n",
        "\n",
        "    #ConvDecoder\n",
        "    self.dc3 = DecoderCell(8*n,4*n)\n",
        "    self.dc2 = DecoderCell(4*n,2*n,1)\n",
        "    self.dc1 = DecoderCell(2*n,n)\n",
        "    self.dc0 = DecoderCell(n,n,1)\n",
        "\n",
        "    #Output \n",
        "    self.out = nn.Sequential(nn.Conv2d(n,2,(3,3),1,1), #Real and Complex channels as outputs?\n",
        "                             nn.Tanh())\n",
        "\n",
        "  def forward(self, x):\n",
        "    #With Residual Connections\n",
        "    # print(x.shape)\n",
        "    e0 = self.ec0(x)\n",
        "    # print(e0.shape)\n",
        "    e1 = self.ec1(e0)\n",
        "    # print(e1.shape)\n",
        "    e2 = self.ec2(e1)\n",
        "    # print(e2.shape)\n",
        "    e3 = self.ec3(e2)\n",
        "    # print(e3.shape)\n",
        "\n",
        "    d3 = self.dc3(e3)\n",
        "    # print(d3.shape)\n",
        "    d2 = self.dc2(d3+e2)\n",
        "    # print(d2.shape)\n",
        "    d1 = self.dc1(d2+e1)\n",
        "    # print(d1.shape)\n",
        "    d0 = self.dc0(d1+e0)\n",
        "    # print(d0.shape)\n",
        "\n",
        "    y = self.out(d0)\n",
        "    # print(y.shape)\n",
        "\n",
        "    return y\n"
      ],
      "execution_count": 14,
      "outputs": []
    },
    {
      "cell_type": "code",
      "metadata": {
        "id": "-jYZnzsVfW3f",
        "colab_type": "code",
        "colab": {}
      },
      "source": [
        "class Generator(nn.Module):\n",
        "  def __init__(self, n):\n",
        "    super(Generator, self).__init__()\n",
        "\n",
        "    self.reconGAN = SubGenerator(n)\n",
        "    self.refineGAN = SubGenerator(n)\n",
        "\n",
        "  def forward(self, x):\n",
        "    y = x+self.reconGAN(x)\n",
        "    z = y+self.refineGAN(y)\n",
        "    return (y,z)"
      ],
      "execution_count": 15,
      "outputs": []
    },
    {
      "cell_type": "code",
      "metadata": {
        "id": "jyMfLT91uiX9",
        "colab_type": "code",
        "colab": {}
      },
      "source": [
        "class Discriminator(nn.Module):\n",
        "  def __init__(self, n):\n",
        "    super(Discriminator, self).__init__()\n",
        "    \n",
        "    #Downsample Layers\n",
        "\n",
        "    self.ec0 = EncoderCell(2,n,leaky=True)\n",
        "    self.ec1 = EncoderCell(n,2*n,leaky=True)\n",
        "    self.ec2 = EncoderCell(2*n,4*n,leaky=True)\n",
        "    self.ec3 = EncoderCell(4*n,8*n,leaky=True)\n",
        "\n",
        "    #Probability Output\n",
        "    self.downsampler = nn.Sequential(self.ec0, self.ec1, self.ec2, self.ec3)\n",
        "    #Abstract latent space size in final layer?\n",
        "    # self.out = nn.Sequential(nn.Conv2d(8*n,1,(11,11), 1), nn.Sigmoid()) #With BCELoss (not numerically stable)\n",
        "    self.out = nn.Sequential(nn.Conv2d(8*n,1,(11,11), 1)) #With stable bceloss with logits\n",
        "\n",
        "  def forward(self, x):\n",
        "    d = self.downsampler(x)\n",
        "    y = self.out(d)\n",
        "    # return torch.squeeze(y)\n",
        "    return y"
      ],
      "execution_count": 16,
      "outputs": []
    },
    {
      "cell_type": "code",
      "metadata": {
        "id": "GS2Qb91uw8IP",
        "colab_type": "code",
        "colab": {}
      },
      "source": [
        "def weights_init(m):\n",
        "    classname = m.__class__.__name__\n",
        "    if classname.find('Conv') != -1:\n",
        "        nn.init.normal_(m.weight.data, 0.0, 0.02)\n",
        "    elif classname.find('BatchNorm') != -1:\n",
        "        nn.init.normal_(m.weight.data, 1.0, 0.02)\n",
        "        nn.init.constant_(m.bias.data, 0)"
      ],
      "execution_count": 18,
      "outputs": []
    },
    {
      "cell_type": "code",
      "metadata": {
        "id": "JHZlArbZrLbx",
        "colab_type": "code",
        "colab": {
          "base_uri": "https://localhost:8080/",
          "height": 35
        },
        "outputId": "4d6359d1-f2e5-425a-b321-0ce29e2ce5b7"
      },
      "source": [
        "device = torch.device(\"cuda\" if torch.cuda.is_available() else \"cpu\")\n",
        "print(device)\n",
        "epochs = 100\n",
        "# batch_size = 100\n",
        "num_filters = 64\n",
        "lr = 0.00001\n",
        "\n",
        "criterion_D = nn.BCEWithLogitsLoss()\n",
        "criterionG_image = nn.MSELoss()\n",
        "criterionG_freq = nn.MSELoss()\n",
        "\n",
        "real_label = 1\n",
        "fake_label = 0\n",
        "\n",
        "alpha = 1.0\n",
        "gamma = 10.0\n",
        "\n",
        "netG = Generator(num_filters)\n",
        "netD = Discriminator(num_filters)\n",
        "\n",
        "opt_D = optim.Adam(netD.parameters(), lr=lr)\n",
        "opt_G = optim.Adam(netG.parameters(), lr=lr)"
      ],
      "execution_count": 19,
      "outputs": [
        {
          "output_type": "stream",
          "text": [
            "cuda\n"
          ],
          "name": "stdout"
        }
      ]
    },
    {
      "cell_type": "code",
      "metadata": {
        "id": "3njYnRCFVIsb",
        "colab_type": "code",
        "colab": {}
      },
      "source": [
        "batch_mask = train_data.mask2.repeat(batch_size,1,1,1)\n",
        "batch_mask = batch_mask.to(device)\n",
        "# mask.shape"
      ],
      "execution_count": 20,
      "outputs": []
    },
    {
      "cell_type": "code",
      "metadata": {
        "id": "a6-nfPBAge2m",
        "colab_type": "code",
        "colab": {}
      },
      "source": [
        "# print(netG)"
      ],
      "execution_count": null,
      "outputs": []
    },
    {
      "cell_type": "code",
      "metadata": {
        "id": "KcPxb_sugg7-",
        "colab_type": "code",
        "colab": {}
      },
      "source": [
        "# print(netD)"
      ],
      "execution_count": null,
      "outputs": []
    },
    {
      "cell_type": "code",
      "metadata": {
        "id": "oJnbEV0bo6Cd",
        "colab_type": "code",
        "colab": {}
      },
      "source": [
        "G_parameters = filter(lambda p: p.requires_grad, netG.parameters())\n",
        "Gparams = sum([np.prod(p.size()) for p in G_parameters])\n",
        "print(\"Generator Parameters:\",Gparams)\n",
        "D_parameters = filter(lambda p: p.requires_grad, netD.parameters())\n",
        "Dparams = sum([np.prod(p.size()) for p in D_parameters])\n",
        "print(\"Discriminator Parameters:\",Dparams)"
      ],
      "execution_count": null,
      "outputs": []
    },
    {
      "cell_type": "code",
      "metadata": {
        "id": "UM3trsFsMtDS",
        "colab_type": "code",
        "colab": {}
      },
      "source": [
        ""
      ],
      "execution_count": null,
      "outputs": []
    },
    {
      "cell_type": "code",
      "metadata": {
        "id": "hKxu8NnrLXGp",
        "colab_type": "code",
        "colab": {}
      },
      "source": [
        "Generated_Images = []\n",
        "G_loss_img = []\n",
        "G_loss_freq = []\n",
        "G_loss_adv = []\n",
        "G_loss_total = []\n",
        "\n",
        "G_loss_img_epoch = []\n",
        "G_loss_freq_epoch = []\n",
        "G_loss_adv_epoch = []\n",
        "G_loss_total_epoch = []\n",
        "\n",
        "D_loss_real = []\n",
        "D_loss_fake = []\n",
        "D_loss_total = []\n",
        "\n",
        "netD.apply(weights_init)\n",
        "netD.to(device)\n",
        "netD.train()\n",
        "\n",
        "netG.apply(weights_init)\n",
        "netG.to(device)\n",
        "netG.train()"
      ],
      "execution_count": null,
      "outputs": []
    },
    {
      "cell_type": "markdown",
      "metadata": {
        "id": "Lu6JYjPYUfFZ",
        "colab_type": "text"
      },
      "source": [
        "Training:<br>\n",
        "We will train the D and G in an alternating fashion. <br>\n",
        "\n"
      ]
    },
    {
      "cell_type": "code",
      "metadata": {
        "id": "fanDG1sOTdEa",
        "colab_type": "code",
        "colab": {}
      },
      "source": [
        "# def GANvtrain(netG, netD, model_params, hyper_params criterions, optimizers, dataloader)\n",
        "image_recon=[]\n",
        "loss_arr=[]\n",
        "\n",
        "for epoch in range(epochs):\n",
        "  for batch_idx, im_tuple in enumerate(dataloader, 0):\n",
        "\n",
        "    full_image_batch = im_tuple[0].to(device)\n",
        "    us_kspace_batch = im_tuple[1].to(device)\n",
        "    zf_recon_batch = im_tuple[2].to(device)\n",
        "\n",
        "    \n",
        "    # recon_image_batch = netG(torch.ifft(mask*torch.fft(full_image_batch.permute([0,2,3,1]),2)).permute([0,3,1,2]))[1]\n",
        "    # recon_kspace_batch = (mask*torch.fft(netG(torch.ifft(us_kspace_batch.permute([0,2,3,1]),2).permute([0,3,1,2]))[1].permute([0,2,3,1]),2)).permute([0,3,1,2])\n",
        "    # recon_image_batch = netG(FhRh(RF(full_image_batch, batch_mask, batch = True), batch = True))[0]\n",
        "    # recon_kspace_batch = RF(netG(FhRh(us_kspace_batch, batch=True))[0], batch_mask, batch = True)\n",
        "    \n",
        "    \n",
        "    #Discriminator Training \n",
        "    # real_targets = torch.full([batch_size], real_label, device=device)\n",
        "    # fake_targets = torch.full([batch_size], real_label, device=device)\n",
        "\n",
        "    opt_D.zero_grad()#Different mini batches for real and fake targets\n",
        "    \n",
        "    real_logits = netD(full_image_batch).view(-1)\n",
        "    real_d_loss = criterion_D(real_logits, torch.full([batch_size], real_label, device=device))\n",
        "    D_loss_real.append(real_d_loss)\n",
        "    real_d_loss.backward()\n",
        "\n",
        "    gen_full_image_batch = netG(zf_recon_batch)[1]\n",
        "    fake_logitsD = netD(gen_full_image_batch.detach()).view(-1)\n",
        "    fake_d_loss = criterion_D(fake_logitsD, torch.full([batch_size], fake_label, device=device))\n",
        "    D_loss_fake.append(fake_d_loss)\n",
        "    fake_d_loss.backward()\n",
        "\n",
        "    # with torch.no_grad():\n",
        "    d_loss_total = real_d_loss+fake_d_loss\n",
        "    D_loss_total.append(d_loss_total.data)\n",
        "\n",
        "    opt_D.step()\n",
        "\n",
        "    #Generator Training\n",
        "    # real_targets = torch.full([batch_size], real_label, device=device)\n",
        "    # fake_targets = torch.full([batch_size], real_label, device=device)\n",
        "    opt_G.zero_grad()\n",
        "\n",
        "    fake_logitsG = netD(gen_full_image_batch).view(-1)\n",
        "    adv_g_loss = criterion_D(fake_logitsG, torch.full([batch_size], real_label, device=device))\n",
        "    G_loss_adv.append(adv_g_loss)\n",
        "    adv_g_loss.backward()\n",
        "\n",
        "    recon_image_batch = netG(zf_recon_batch)[1] #Because same underlying image\n",
        "    g_image_loss = gamma*criterionG_image(recon_image_batch,full_image_batch)\n",
        "    G_loss_img.append(g_image_loss)\n",
        "    g_image_loss.backward()\n",
        "\n",
        "    recon_kspace_batch = RF(netG(zf_recon_batch)[1], batch_mask, batch = True) #Because same underlying image\n",
        "    g_freq_loss = alpha*criterionG_freq(recon_kspace_batch,us_kspace_batch)\n",
        "    G_loss_freq.append(g_freq_loss)\n",
        "    g_freq_loss.backward()\n",
        "\n",
        "    # with torch.no_grad():\n",
        "    g_loss_total = adv_g_loss+g_image_loss#+g_freq_loss\n",
        "    G_loss_total.append(g_loss_total)\n",
        "\n",
        "    opt_G.step()   \n",
        "\n",
        "  # print(\"Epoch:\", epoch, \"G Loss:\", float('%.2f' % g_loss_total.data.tolist()), \"D Loss:\", float('%.2f' % d_loss_total.data.tolist()))\n",
        "\n",
        "  # if epoch%25==0:\n",
        "  #   clear_output(wait=True)\n",
        "  G_loss_adv_epoch = sum(G_loss_adv[-batch_size:])\n",
        "  G_loss_img_epoch = sum(G_loss_img[-batch_size:])\n",
        "  G_loss_freq_epoch = sum(G_loss_freq[-batch_size:])\n",
        "  print(\"G_loss_adv_epoch:\", float('%.2f' % G_loss_adv_epoch.data.tolist()), \"G_loss_img_epoch:\", float('%.2f' % G_loss_img_epoch.data.tolist()), \"G_loss_freq_epoch:\", float('%.2f' % G_loss_freq_epoch.data.tolist()))\n",
        "\n",
        "  if epoch%5>=0:\n",
        "    disp_img = recon_image_batch[0].cpu().detach().numpy()\n",
        "    disp_img = np.clip(disp_img, -1, 1)\n",
        "    disp_img2 = full_image_batch[0].cpu().detach().numpy()\n",
        "    disp_img3 = zf_recon_batch[0].cpu().detach().numpy()\n",
        "    \n",
        "    displayTensor(disp_img2)\n",
        "    plt.show()\n",
        "    displayTensor(disp_img3)\n",
        "    plt.show()\n",
        "    displayTensor(disp_img)\n",
        "    plt.show()\n",
        "    # print(recon_image_batch.size())\n",
        "\n",
        "  image_recon.append(disp_img)\n",
        "  # loss_arr.append(g_image_loss)\n"
      ],
      "execution_count": null,
      "outputs": []
    },
    {
      "cell_type": "code",
      "metadata": {
        "id": "ECR3yHJhr9Hm",
        "colab_type": "code",
        "colab": {
          "base_uri": "https://localhost:8080/",
          "height": 283
        },
        "outputId": "ae63ac57-8765-408a-b96a-72d655dda2c9"
      },
      "source": [
        "plt.plot(D_loss_total)"
      ],
      "execution_count": 23,
      "outputs": [
        {
          "output_type": "execute_result",
          "data": {
            "text/plain": [
              "[<matplotlib.lines.Line2D at 0x7f112817cb70>]"
            ]
          },
          "metadata": {
            "tags": []
          },
          "execution_count": 23
        },
        {
          "output_type": "display_data",
          "data": {
            "image/png": "[encoded data removed]",
            "text/plain": [
              "<Figure size 432x288 with 1 Axes>"
            ]
          },
          "metadata": {
            "tags": [],
            "needs_background": "light"
          }
        }
      ]
    },
    {
      "cell_type": "code",
      "metadata": {
        "id": "qAFR8jkIttN3",
        "colab_type": "code",
        "colab": {}
      },
      "source": [
        "np.max(disp_img)\n",
        "disp_img = np.clip(disp_img, -1, 1)"
      ],
      "execution_count": null,
      "outputs": []
    },
    {
      "cell_type": "code",
      "metadata": {
        "id": "kzp8xsUd9yTT",
        "colab_type": "code",
        "colab": {}
      },
      "source": [
        "displayTensor(disp_img)\n",
        "plt.show()"
      ],
      "execution_count": null,
      "outputs": []
    },
    {
      "cell_type": "code",
      "metadata": {
        "id": "01_Os5D--Y4k",
        "colab_type": "code",
        "colab": {}
      },
      "source": [
        ""
      ],
      "execution_count": null,
      "outputs": []
    }
  ]
}